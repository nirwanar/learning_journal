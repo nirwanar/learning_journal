{
 "cells": [
  {
   "cell_type": "markdown",
   "metadata": {},
   "source": [
    "# Non - Graded Challenge 2"
   ]
  },
  {
   "cell_type": "markdown",
   "metadata": {},
   "source": [
    "### Assignment Instructions\n",
    "* Buatlah sebuah function yang dapat mengkonversi suhu dari kelvin ke celcius, dan celcius ke kelvin.\n",
    "* Buatlah sebuah function yang dapat mengkonversi suhu ke fahrenheit. Tambahkan parameter untuk memastikan bahwa argumen yang dimasukan adalah celcius atau kelvin. Panggil function yang pertama jika diperlukan.\n",
    "* Buatlah sebuah function yang dapat mengkonversi suhu dari fahrenheit. Berikan argumen untuk memastikan bahwa outputnya adalah celcius atau kelvin.\n",
    "* Berikan dokumentasi pada setiap baris kode yang kalian tulis."
   ]
  },
  {
   "cell_type": "markdown",
   "metadata": {},
   "source": [
    "Note :\n",
    "* C = Celcius\n",
    "* K = Kelvin\n",
    "* F = Fahrenheit"
   ]
  },
  {
   "cell_type": "markdown",
   "metadata": {},
   "source": [
    "### Konversi suhu K ke C atau sebaliknya"
   ]
  },
  {
   "cell_type": "code",
   "execution_count": 69,
   "metadata": {},
   "outputs": [],
   "source": [
    "# fungsi konversi suhu dari K ke C\n",
    "def k_converter(kelvin):\n",
    "    celcius = kelvin - 273.5\n",
    "    print(f'{kelvin} K = {celcius} C')\n",
    "\n",
    "# fungsi konversi suhu dari C ke K\n",
    "def c_converter(celcius):\n",
    "    kelvin = celcius + 273.5\n",
    "    print(f'{celcius} C = {kelvin} K')"
   ]
  },
  {
   "cell_type": "code",
   "execution_count": 71,
   "metadata": {},
   "outputs": [],
   "source": [
    "# input variabel suhu\n",
    "input_kelvin = float(input('Masukkan suhu dalam K yg ingin dirubah ke dalam C (Masukkan angkanya saja) :'))\n",
    "input_celcius = float(input('Masukkan suhu dalam C yg ingin dirubah ke dalam K (Masukkan angkanya saja) :'))"
   ]
  },
  {
   "cell_type": "code",
   "execution_count": 72,
   "metadata": {},
   "outputs": [
    {
     "name": "stdout",
     "output_type": "stream",
     "text": [
      "380.0 K = 106.5 C\n",
      "50.0 C = 323.5 K\n"
     ]
    }
   ],
   "source": [
    "# jalankan fungsi konversinya\n",
    "k_converter(input_kelvin)\n",
    "c_converter(input_celcius)"
   ]
  },
  {
   "cell_type": "markdown",
   "metadata": {},
   "source": [
    "### Konversi suhu ke F"
   ]
  },
  {
   "cell_type": "code",
   "execution_count": 73,
   "metadata": {},
   "outputs": [],
   "source": [
    "# fungsi konversi suhu ke F\n",
    "def convert_to_f(inputan):\n",
    "    if 'C' in inputan.upper():                  # kondisi jika suhu dalam C\n",
    "        suhu = int(inputan[:-1])                # variabel suhu C hanya berisi angka (integer)\n",
    "        fahrenheit = (9/5) * suhu + 32\n",
    "        print(f'{suhu} C = {fahrenheit} F')\n",
    "    elif 'K' in inputan.upper():                # kondisi jika suhu dalam K\n",
    "        suhu = int(inputan[:-1])                # variabel suhu K hanya berisi angka (integer)\n",
    "        fahrenheit = (suhu * 9/5) - 459.67\n",
    "        print(f'{suhu} K = {fahrenheit} F')\n",
    "    else:\n",
    "        print('Penulisan input suhu SALAH')     # kondisi jika salah menginput suhu\n",
    "    "
   ]
  },
  {
   "cell_type": "code",
   "execution_count": 80,
   "metadata": {},
   "outputs": [],
   "source": [
    "# input variabel suhu\n",
    "input_suhu = input('Masukkan suhu K atau C yg ingin dirubah ke dalam F (Misal: 20K atau 40C) :')"
   ]
  },
  {
   "cell_type": "code",
   "execution_count": 81,
   "metadata": {},
   "outputs": [
    {
     "name": "stdout",
     "output_type": "stream",
     "text": [
      "58 C = 136.4 F\n"
     ]
    }
   ],
   "source": [
    "# jalankan fungsi konversinya\n",
    "convert_to_f(input_suhu)"
   ]
  },
  {
   "cell_type": "markdown",
   "metadata": {},
   "source": [
    "### Konversi suhu dari F"
   ]
  },
  {
   "cell_type": "code",
   "execution_count": 82,
   "metadata": {},
   "outputs": [],
   "source": [
    "# fungsi konversi suhu dari F\n",
    "def f_converter(fahrenheit):\n",
    "    celcius = (fahrenheit - 32) * 5/9\n",
    "    print(f'{fahrenheit} F = {celcius} C')\n",
    "\n",
    "    kelvin = (fahrenheit + 459.67) * 5/9\n",
    "    print(f'{fahrenheit} F = {kelvin} K')"
   ]
  },
  {
   "cell_type": "code",
   "execution_count": 84,
   "metadata": {},
   "outputs": [],
   "source": [
    "# input variabel suhu\n",
    "input_fahrenheit = float(input('Masukkan suhu dalam F yg ingin dirubah ke dalam C dan K (Masukkan angkanya saja) :'))"
   ]
  },
  {
   "cell_type": "code",
   "execution_count": 85,
   "metadata": {},
   "outputs": [
    {
     "name": "stdout",
     "output_type": "stream",
     "text": [
      "343.0 F = 172.77777777777777 C\n",
      "343.0 F = 445.9277777777778 K\n"
     ]
    }
   ],
   "source": [
    "# jalankan fungsi konversinya\n",
    "f_converter(input_fahrenheit)"
   ]
  }
 ],
 "metadata": {
  "interpreter": {
   "hash": "8da01e5a71448ea74f54d88afa8911010d1d12e23bc7e103d40d5def4a09152c"
  },
  "kernelspec": {
   "display_name": "Python 3.9.2 64-bit",
   "language": "python",
   "name": "python3"
  },
  "language_info": {
   "codemirror_mode": {
    "name": "ipython",
    "version": 3
   },
   "file_extension": ".py",
   "mimetype": "text/x-python",
   "name": "python",
   "nbconvert_exporter": "python",
   "pygments_lexer": "ipython3",
   "version": "3.9.2"
  },
  "orig_nbformat": 4
 },
 "nbformat": 4,
 "nbformat_minor": 2
}
